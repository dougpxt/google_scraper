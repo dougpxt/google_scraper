{
 "cells": [
  {
   "cell_type": "code",
   "execution_count": 1,
   "metadata": {},
   "outputs": [],
   "source": [
    "\n",
    "import requests\n",
    "from bs4 import BeautifulSoup\n",
    "\n",
    "class GoogleScrapper:\n",
    "    def __init__(self, user_agent: str):\n",
    "        self.url = input('Enter an URL')\n",
    "        self.headers = {\n",
    "            'User-Agent': user_agent\n",
    "            }\n",
    "        \n",
    "    def fetch (self, url: str):\n",
    "        response = requests.get(url, headers=self.headers)\n",
    "        response.raise_for_status()\n",
    "    \n",
    "        soup = BeautifulSoup(response.text, 'html.parser')\n",
    "        search_results = soup.find_all('div', class_='g')\n",
    "        \n",
    "        results = []\n",
    "        for result in search_results:\n",
    "            title = result.find('h3').text\n",
    "            link = result.find('a')['href']\n",
    "            snippet = result.find('div', class_='VwiC3b yXK7lf MUxGbd yDYNvb lyLwlc lEBKkf').text if result.find('div', class_='VwiC3b yXK7lf MUxGbd yDYNvb lyLwlc lEBKkf') else ''\n",
    "            results.append({'title': title, 'link': link, 'snippet': snippet})\n",
    "            \n",
    "        return results\n",
    "        \n",
    "    def parse_results (self, results):\n",
    "        for result in results:\n",
    "            print(f\"link: {result['link']}\")\n",
    "            print(f\"title: {result['title']}\")\n",
    "            print(f\"snippet: {result['snippet']}\")\n",
    "            print('\\n' + 50*'-')"
   ]
  },
  {
   "cell_type": "code",
   "execution_count": 2,
   "metadata": {},
   "outputs": [
    {
     "name": "stdout",
     "output_type": "stream",
     "text": [
      "Enter an URLhttps://www.google.com/search?q=bitcoin&oq=bitcoin&aqs=chrome..69i57.2671j0j1&sourceid=chrome&ie=UTF-8&bshm=nce/1\n",
      "link: /search?q=bitcoin&tbm=isch&source=iu&ictx=1&vet=1&fir=GE0vjK8Esxoq3M%252CDNodNOzw_D8AIM%252C_%253B68jmUitR5hvB0M%252CnFQpz_LxYEMmKM%252C_%253BWxRpSdVBiphshM%252CTkcpuLdJyNAZZM%252C_%253BOim5LFWd7a46NM%252Ch0g-pMPyEdtqxM%252C_%253BIQYjzX5YGP1lbM%252CIEA8KRVPKmkiTM%252C_%253B1kxiBQ_MIcWbQM%252CM4wyF72JpwEaEM%252C_&usg=AI4_-kRja9wb5l-F9mDA09vUMR7eeMrZ4Q&sa=X&ved=2ahUKEwjqhaa4pqP_AhWBjZUCHcLwBLwQ_h16BAhFEAE#imgrc=GE0vjK8Esxoq3M\n",
      "title: Imagens\n",
      "snippet: \n",
      "\n",
      "--------------------------------------------------\n",
      "link: https://www.mercadobitcoin.com.br/\n",
      "title: Mercado Bitcoin | Tudo para você investir em criptomoedas\n",
      "snippet: Plataforma brasileira, segura e completa para você ampliar seus investimentos com Renda Fixa Digital, bitcoin, ethereum e mais de 200 criptomoedas em um só ...\n",
      "\n",
      "--------------------------------------------------\n",
      "link: https://www.infomoney.com.br/cotacoes/cripto/ativo/bitcoin-btc/\n",
      "title: BTC (Bitcoin) - Cotação - InfoMoney\n",
      "snippet: O Bitcoin surgiu em 2008 como uma resposta à crise financeira, com a ideia de substituir o dinheiro físico que usamos e, principalmente, tirar a necessidade ...\n",
      "\n",
      "--------------------------------------------------\n",
      "link: https://bitcoin.org/pt_BR/\n",
      "title: Bitcoin - Dinheiro P2P de código aberto\n",
      "snippet: Bitcoin é uma rede inovadora de pagamento e um novo tipo de moeda. Encontre tudo o que você precisa saber e comece com Bitcoin em bitcoin.org.\n",
      "\n",
      "--------------------------------------------------\n",
      "link: https://foxbit.com.br/o-que-e-bitcoin/\n",
      "title: Bitcoin: O que é, Como Funciona, Calculadora | Foxbit\n",
      "snippet: Bitcoin é uma moeda digital, descentralizada e que não necessita de terceiros para funcionar. Isso significa que você não depende de bancos, grandes corporações ...\n",
      "\n",
      "--------------------------------------------------\n",
      "link: https://portaldobitcoin.uol.com.br/cotacao-bitcoin/\n",
      "title: Cotação do Bitcoin hoje 01/06/23: R$ 135.744,07\n",
      "snippet: há 2 horas — Confira as últimas notícias sobre bitcoin. Gráfico histórico em reais (BTC/BRL) e cotação do bitcoin nas principais corretoras do Brasil.\n",
      "\n",
      "--------------------------------------------------\n",
      "link: https://www.bitcointrade.com.br/\n",
      "title: BitcoinTrade\n",
      "snippet: A BitcoinTrade é a Plataforma de Criptomoedas mais segura do mercado. Compre e Venda Bitcoin (BTC), Ethereum (ETH), Litecoin (LTC) e mais!\n",
      "\n",
      "--------------------------------------------------\n",
      "link: https://pt.wikipedia.org/wiki/Bitcoin\n",
      "title: Bitcoin – Wikipédia, a enciclopédia livre\n",
      "snippet: Bitcoin (símbolo: ₿; abreviado ISO 4217: BTC ou XBT) é uma criptomoeda livre e descentralizada, um dinheiro eletrônico para transações financeiras ponto a ...\n",
      "\n",
      "--------------------------------------------------\n",
      "link: https://m.br.investing.com/crypto/bitcoin\n",
      "title: Preço Bitcoin hoje e cotação (BTC) - Investing.com\n",
      "snippet: Confira quanto está a cotação do Bitcoin hoje. Use o conversor de criptomoedas e crie alertas para acompanhar a variação de preço do BTC.\n",
      "\n",
      "--------------------------------------------------\n"
     ]
    }
   ],
   "source": [
    "scraper = GoogleScrapper(\"Mozilla/5.0 (X11; Linux x86_64) AppleWebKit/537.36 (KHTML, like Gecko) Chrome/106.0.0.0 Brave/537.36\")\n",
    "search_results = scraper.fetch(scraper.url)\n",
    "scraper.parse_results(search_results)"
   ]
  },
  {
   "cell_type": "code",
   "execution_count": null,
   "metadata": {},
   "outputs": [],
   "source": []
  }
 ],
 "metadata": {
  "kernelspec": {
   "display_name": "Python 3 (ipykernel)",
   "language": "python",
   "name": "python3"
  },
  "language_info": {
   "codemirror_mode": {
    "name": "ipython",
    "version": 3
   },
   "file_extension": ".py",
   "mimetype": "text/x-python",
   "name": "python",
   "nbconvert_exporter": "python",
   "pygments_lexer": "ipython3",
   "version": "3.10.6"
  }
 },
 "nbformat": 4,
 "nbformat_minor": 2
}
